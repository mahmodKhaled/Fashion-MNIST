{
 "cells": [
  {
   "cell_type": "markdown",
   "metadata": {},
   "source": [
    "## Imports"
   ]
  },
  {
   "cell_type": "code",
   "execution_count": 3,
   "metadata": {},
   "outputs": [],
   "source": [
    "import numpy as np\n",
    "import pandas as pd\n",
    "import tensorflow as tf\n",
    "import matplotlib.pyplot as plt"
   ]
  },
  {
   "cell_type": "code",
   "execution_count": 5,
   "metadata": {},
   "outputs": [],
   "source": [
    "class DataPreparator():\n",
    "    def __init__(self, X, y):\n",
    "        self.X_train, self.X_test = X\n",
    "        self.y_train, self.y_test = y\n",
    "\n",
    "    def draw_images(self, num_of_images):\n",
    "        '''\n",
    "        This function draws a random images from the data, by specifying how many images to draw\n",
    "        '''\n",
    "        random_indexes = [np.random.randint(0, len(self.X_train)) for i in range(num_of_images)]\n",
    "        fig , axis = plt.subplots(5,10)\n",
    "        fig.set_figwidth(15)\n",
    "        fig.set_figheight(15)\n",
    "        i , j = 0 , 0\n",
    "        for idx in random_indexes:\n",
    "            image = self.X_train[idx]\n",
    "            axis[i,j].imshow(image, cmap='binary')\n",
    "            axis[i,j].axis('off')\n",
    "            j += 1\n",
    "            if j % 10 == 0:\n",
    "                i += 1\n",
    "                j = 0\n",
    "    \n",
    "    def normalize_data(self, value):\n",
    "        '''\n",
    "        This function normalize the data by dividing it by the value\n",
    "        '''\n",
    "        self.X_train = self.X_train / value\n",
    "        self.X_test = self.X_test / value\n",
    "        return self.X_train, self.X_test\n",
    "    \n",
    "    def reshape_data(self, axis):\n",
    "        self.X_train = np.expand_dims(self.X_train, axis=axis)\n",
    "        self.X_test = np.expand_dims(self.X_test, axis=axis)\n",
    "        return self.X_train, self.X_test\n",
    "    \n",
    "    def encode_labels(self):\n",
    "        self.y_train = pd.get_dummies(self.y_train)\n",
    "        self.y_test = pd.get_dummies(self.y_test)\n",
    "        return self.y_train, self.y_test"
   ]
  },
  {
   "cell_type": "code",
   "execution_count": null,
   "metadata": {},
   "outputs": [],
   "source": []
  }
 ],
 "metadata": {
  "kernelspec": {
   "display_name": "base",
   "language": "python",
   "name": "python3"
  },
  "language_info": {
   "codemirror_mode": {
    "name": "ipython",
    "version": 3
   },
   "file_extension": ".py",
   "mimetype": "text/x-python",
   "name": "python",
   "nbconvert_exporter": "python",
   "pygments_lexer": "ipython3",
   "version": "3.8.16"
  },
  "orig_nbformat": 4
 },
 "nbformat": 4,
 "nbformat_minor": 2
}
