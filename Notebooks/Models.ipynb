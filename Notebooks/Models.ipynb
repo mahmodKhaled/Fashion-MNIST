{
 "cells": [
  {
   "cell_type": "markdown",
   "metadata": {},
   "source": [
    "## Imports"
   ]
  },
  {
   "cell_type": "code",
   "execution_count": 1,
   "metadata": {},
   "outputs": [],
   "source": [
    "from tensorflow.keras.models import Sequential\n",
    "from tensorflow.keras.layers import Dense\n",
    "from tensorflow.keras.layers import Conv2D\n",
    "from tensorflow.keras.layers import AveragePooling2D\n",
    "from tensorflow.keras.layers import Input\n",
    "from tensorflow.keras.layers import Flatten\n",
    "from tensorflow.keras.losses import CategoricalCrossentropy\n",
    "from tensorflow.keras.optimizers import Adam\n",
    "from tensorflow.keras.applications.inception_v3 import InceptionV3\n",
    "from tensorflow.keras.applications.vgg19 import VGG19\n",
    "from tensorflow.keras.wrappers.scikit_learn import KerasClassifier\n",
    "from tensorflow.keras.optimizers import RMSprop , SGD"
   ]
  },
  {
   "cell_type": "markdown",
   "metadata": {},
   "source": [
    "### LeNet-5 Architecture"
   ]
  },
  {
   "cell_type": "code",
   "execution_count": 3,
   "metadata": {},
   "outputs": [],
   "source": [
    "class lenet_5:\n",
    "    def create_model(self, optimizer= Adam()):\n",
    "        '''\n",
    "        This function defines the architecure of LeNet-5\n",
    "        '''\n",
    "        # define architecture\n",
    "        model = Sequential([\n",
    "            Input(shape=(28, 28, 1)),\n",
    "            Conv2D(filters= 6, kernel_size= (5, 5), strides= (1, 1), padding= 'valid'),\n",
    "            AveragePooling2D(pool_size = (2, 2), strides = 2),\n",
    "            Conv2D(filters= 16, kernel_size= (5, 5), strides= (1, 1), padding= 'valid'),\n",
    "            AveragePooling2D(pool_size= (2, 2), strides= 2),\n",
    "            Flatten(),\n",
    "            Dense(units= 120, activation= 'relu'),\n",
    "            Dense(units= 84, activation= 'relu'),\n",
    "            Dense(units= 10, activation= 'softmax')\n",
    "        ])\n",
    "        # compile the model\n",
    "        model.compile(optimizer=optimizer, loss=CategoricalCrossentropy(), metrics=['accuracy'])\n",
    "        return model"
   ]
  },
  {
   "cell_type": "code",
   "execution_count": null,
   "metadata": {},
   "outputs": [],
   "source": []
  }
 ],
 "metadata": {
  "kernelspec": {
   "display_name": "base",
   "language": "python",
   "name": "python3"
  },
  "language_info": {
   "codemirror_mode": {
    "name": "ipython",
    "version": 3
   },
   "file_extension": ".py",
   "mimetype": "text/x-python",
   "name": "python",
   "nbconvert_exporter": "python",
   "pygments_lexer": "ipython3",
   "version": "3.8.16"
  },
  "orig_nbformat": 4
 },
 "nbformat": 4,
 "nbformat_minor": 2
}
