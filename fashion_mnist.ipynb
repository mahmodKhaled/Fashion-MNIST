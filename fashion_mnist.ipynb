{
 "cells": [
  {
   "cell_type": "markdown",
   "id": "1163326c",
   "metadata": {},
   "source": [
    "## Imports"
   ]
  },
  {
   "cell_type": "code",
   "execution_count": 2,
   "id": "a26f4f1a",
   "metadata": {},
   "outputs": [],
   "source": [
    "import numpy as np\n",
    "import pandas as pd\n",
    "import tensorflow as tf"
   ]
  },
  {
   "cell_type": "markdown",
   "id": "d2772895",
   "metadata": {},
   "source": [
    "## Data Preparations"
   ]
  },
  {
   "cell_type": "markdown",
   "id": "21c5b2ed",
   "metadata": {},
   "source": [
    "### 1. Load data files"
   ]
  },
  {
   "cell_type": "code",
   "execution_count": 3,
   "id": "224f1dfd",
   "metadata": {},
   "outputs": [
    {
     "name": "stdout",
     "output_type": "stream",
     "text": [
      "Downloading data from https://storage.googleapis.com/tensorflow/tf-keras-datasets/train-labels-idx1-ubyte.gz\n",
      "32768/29515 [=================================] - 0s 0s/step\n",
      "Downloading data from https://storage.googleapis.com/tensorflow/tf-keras-datasets/train-images-idx3-ubyte.gz\n",
      "26427392/26421880 [==============================] - 26s 1us/step\n",
      "Downloading data from https://storage.googleapis.com/tensorflow/tf-keras-datasets/t10k-labels-idx1-ubyte.gz\n",
      "8192/5148 [===============================================] - 0s 0s/step\n",
      "Downloading data from https://storage.googleapis.com/tensorflow/tf-keras-datasets/t10k-images-idx3-ubyte.gz\n",
      "4423680/4422102 [==============================] - 2s 0us/step\n"
     ]
    }
   ],
   "source": [
    "# load the data from keras datasets\n",
    "fashion_mnist = tf.keras.datasets.fashion_mnist\n",
    "# divide the data into train and test\n",
    "(X_train, y_train), (X_test, y_test) = fashion_mnist.load_data() "
   ]
  },
  {
   "cell_type": "markdown",
   "id": "5460de6d",
   "metadata": {},
   "source": [
    "### 1.1 Describe the data"
   ]
  },
  {
   "cell_type": "code",
   "execution_count": 12,
   "id": "d893516f",
   "metadata": {},
   "outputs": [
    {
     "name": "stdout",
     "output_type": "stream",
     "text": [
      "The train data has 60000 examples with shape (28, 28)\n"
     ]
    }
   ],
   "source": [
    "# shape of train data\n",
    "print('The train data has', X_train.shape[0], 'examples with shape', X_train.shape[1:])"
   ]
  },
  {
   "cell_type": "code",
   "execution_count": 13,
   "id": "0bd34bb5",
   "metadata": {},
   "outputs": [
    {
     "name": "stdout",
     "output_type": "stream",
     "text": [
      "The test data has 10000 examples with shape (28, 28)\n"
     ]
    }
   ],
   "source": [
    "# shape of test data\n",
    "print('The test data has', X_test.shape[0], 'examples with shape', X_test.shape[1:])"
   ]
  },
  {
   "cell_type": "code",
   "execution_count": 14,
   "id": "28b36170",
   "metadata": {},
   "outputs": [
    {
     "name": "stdout",
     "output_type": "stream",
     "text": [
      "The label 0 represents a class that is T-shirt/top\n",
      "The label 1 represents a class that is Trouser\n",
      "The label 2 represents a class that is Pullover\n",
      "The label 3 represents a class that is Dress\n",
      "The label 4 represents a class that is Coat\n",
      "The label 5 represents a class that is Sandal\n",
      "The label 6 represents a class that is Shirt\n",
      "The label 7 represents a class that is Sneaker\n",
      "The label 8 represents a class that is Bag\n",
      "The label 9 represents a class that is Ankle boot\n"
     ]
    }
   ],
   "source": [
    "classes_names = ['T-shirt/top', 'Trouser', 'Pullover', 'Dress', 'Coat', 'Sandal', 'Shirt', 'Sneaker', 'Bag', 'Ankle boot']\n",
    "unique_labels = np.unique(y_train)\n",
    "labels_dict = {classes_names[i]: unique_labels[i] for i in range(len(unique_labels))}\n",
    "for class_name, label in labels_dict.items():\n",
    "    print('The label', label, 'represents a class that is', class_name)"
   ]
  },
  {
   "cell_type": "markdown",
   "id": "8830297e",
   "metadata": {},
   "source": [
    "### 1.5 Draw some of the images"
   ]
  },
  {
   "cell_type": "markdown",
   "id": "a4b4d478",
   "metadata": {},
   "source": [
    "### 2. Carry out required preprocessing operations on the data"
   ]
  },
  {
   "cell_type": "markdown",
   "id": "46c3d5b4",
   "metadata": {},
   "source": [
    "### 3. Encode the labels"
   ]
  },
  {
   "cell_type": "markdown",
   "id": "0fc4c622",
   "metadata": {},
   "source": [
    "## Training a CNN neural network"
   ]
  },
  {
   "cell_type": "code",
   "execution_count": null,
   "id": "9acd4946",
   "metadata": {},
   "outputs": [],
   "source": []
  }
 ],
 "metadata": {
  "kernelspec": {
   "display_name": "Python 3",
   "language": "python",
   "name": "python3"
  },
  "language_info": {
   "codemirror_mode": {
    "name": "ipython",
    "version": 3
   },
   "file_extension": ".py",
   "mimetype": "text/x-python",
   "name": "python",
   "nbconvert_exporter": "python",
   "pygments_lexer": "ipython3",
   "version": "3.8.8"
  }
 },
 "nbformat": 4,
 "nbformat_minor": 5
}
