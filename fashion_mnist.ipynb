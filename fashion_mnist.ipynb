{
 "cells": [
  {
   "cell_type": "markdown",
   "id": "1e0d8d10",
   "metadata": {},
   "source": [
    "## Imports"
   ]
  },
  {
   "cell_type": "code",
   "execution_count": 2,
   "id": "a26bb1ea",
   "metadata": {},
   "outputs": [],
   "source": [
    "import numpy as np\n",
    "import pandas as pd\n",
    "import tensorflow as tf"
   ]
  },
  {
   "cell_type": "markdown",
   "id": "23c41205",
   "metadata": {},
   "source": [
    "## Data Preparations"
   ]
  },
  {
   "cell_type": "markdown",
   "id": "154de40e",
   "metadata": {},
   "source": [
    "### 1. Load data files"
   ]
  },
  {
   "cell_type": "code",
   "execution_count": 3,
   "id": "47f17777",
   "metadata": {},
   "outputs": [
    {
     "name": "stdout",
     "output_type": "stream",
     "text": [
      "Downloading data from https://storage.googleapis.com/tensorflow/tf-keras-datasets/train-labels-idx1-ubyte.gz\n",
      "32768/29515 [=================================] - 0s 0s/step\n",
      "Downloading data from https://storage.googleapis.com/tensorflow/tf-keras-datasets/train-images-idx3-ubyte.gz\n",
      "26427392/26421880 [==============================] - 26s 1us/step\n",
      "Downloading data from https://storage.googleapis.com/tensorflow/tf-keras-datasets/t10k-labels-idx1-ubyte.gz\n",
      "8192/5148 [===============================================] - 0s 0s/step\n",
      "Downloading data from https://storage.googleapis.com/tensorflow/tf-keras-datasets/t10k-images-idx3-ubyte.gz\n",
      "4423680/4422102 [==============================] - 2s 0us/step\n"
     ]
    }
   ],
   "source": [
    "# load the data from keras datasets\n",
    "fashion_mnist = tf.keras.datasets.fashion_mnist\n",
    "# divide the data into train and test\n",
    "(X_train, y_train), (X_test, y_test) = fashion_mnist.load_data() "
   ]
  },
  {
   "cell_type": "markdown",
   "id": "152c4201",
   "metadata": {},
   "source": [
    "### 1.1 Describe the data"
   ]
  },
  {
   "cell_type": "markdown",
   "id": "f20e11c8",
   "metadata": {},
   "source": [
    "### 1.5 Draw some of the images"
   ]
  },
  {
   "cell_type": "markdown",
   "id": "6e748a28",
   "metadata": {},
   "source": [
    "### 2. Carry out required preprocessing operations on the data"
   ]
  },
  {
   "cell_type": "markdown",
   "id": "bdfce9dc",
   "metadata": {},
   "source": [
    "### 3. Encode the labels"
   ]
  },
  {
   "cell_type": "markdown",
   "id": "dc7fed31",
   "metadata": {},
   "source": [
    "## Training a CNN neural network"
   ]
  },
  {
   "cell_type": "code",
   "execution_count": null,
   "id": "5f661749",
   "metadata": {},
   "outputs": [],
   "source": []
  }
 ],
 "metadata": {
  "kernelspec": {
   "display_name": "Python 3",
   "language": "python",
   "name": "python3"
  },
  "language_info": {
   "codemirror_mode": {
    "name": "ipython",
    "version": 3
   },
   "file_extension": ".py",
   "mimetype": "text/x-python",
   "name": "python",
   "nbconvert_exporter": "python",
   "pygments_lexer": "ipython3",
   "version": "3.8.8"
  }
 },
 "nbformat": 4,
 "nbformat_minor": 5
}
